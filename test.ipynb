{
 "metadata": {
  "language_info": {
   "codemirror_mode": {
    "name": "ipython",
    "version": 3
   },
   "file_extension": ".py",
   "mimetype": "text/x-python",
   "name": "python",
   "nbconvert_exporter": "python",
   "pygments_lexer": "ipython3",
   "version": "3.8.8"
  },
  "orig_nbformat": 4,
  "kernelspec": {
   "name": "python3",
   "display_name": "Python 3.8.8 64-bit ('base': conda)"
  },
  "interpreter": {
   "hash": "15b5b01698dca01f54617db7615e6c29839ce6e011c09452d03bb6af57b07af6"
  }
 },
 "nbformat": 4,
 "nbformat_minor": 2,
 "cells": [
  {
   "source": [
    "import requests\n",
    "from bs4 import BeautifulSoup"
   ],
   "cell_type": "code",
   "metadata": {},
   "execution_count": null,
   "outputs": []
  },
  {
   "cell_type": "code",
   "execution_count": 4,
   "metadata": {},
   "outputs": [
    {
     "output_type": "execute_result",
     "data": {
      "text/plain": [
       "<Response [200]>"
      ]
     },
     "metadata": {},
     "execution_count": 4
    }
   ],
   "source": [
    "## 11번가\n",
    "\n",
    "elvst_sample_url = \"https://www.11st.co.kr/products/2453470489\"\n",
    "res = requests.get(elvst_sample_url)\n",
    "res"
   ]
  },
  {
   "cell_type": "code",
   "execution_count": 7,
   "metadata": {},
   "outputs": [
    {
     "output_type": "execute_result",
     "data": {
      "text/plain": [
       "<a class=\"btn_buying btn_dshop buying c_product_btn c_product_btn_lg3\" data-log-actionid-label=\"purchase\" href=\"javascript:;\">구매하기</a>"
      ]
     },
     "metadata": {},
     "execution_count": 7
    }
   ],
   "source": [
    "elvst_soup = BeautifulSoup(res.text, 'html.parser')\n",
    "buy_button = elvst_soup.find('a', class_ = 'btn_buying') # a 태그 중 btn_buying이란 class 존재 여부 판별\n",
    "buy_button"
   ]
  },
  {
   "cell_type": "code",
   "execution_count": 8,
   "metadata": {},
   "outputs": [],
   "source": [
    "def elvst_check(res):\n",
    "    soup = BeautifulSoup(res.text, 'html.parser')\n",
    "    stock_a = soup.find(\"a\", class_=\"btn_dshop buying position_top\")\n",
    "\n",
    "    if stock_a == None:\n",
    "        return False\n",
    "    return True"
   ]
  },
  {
   "cell_type": "code",
   "execution_count": 9,
   "metadata": {},
   "outputs": [
    {
     "output_type": "execute_result",
     "data": {
      "text/plain": [
       "<Response [200]>"
      ]
     },
     "metadata": {},
     "execution_count": 9
    }
   ],
   "source": [
    "## 쿠팡\n",
    "\n",
    "coupang_sample_url = \"https://www.coupang.com/vp/products/4624314798?itemId=5735614447&vendorItemId=4765824657&sourceType=CATEGORY&categoryId=449013&isAddedCart=\"\n",
    "headers = {\n",
    "    \"User-Agent\" : \"Mozilla/5.0 (Windows NT 10.0; Win64; x64) AppleWebKit/537.36 (KHTML, like Gecko) Chrome/86.0.4240.277 Whale/2.9.118.38 Safari/537.36\"\n",
    "}\n",
    "res = requests.get(coupang_sample_url, headers=headers)\n",
    "res"
   ]
  },
  {
   "cell_type": "code",
   "execution_count": 13,
   "metadata": {},
   "outputs": [
    {
     "output_type": "execute_result",
     "data": {
      "text/plain": [
       "'품절'"
      ]
     },
     "metadata": {},
     "execution_count": 13
    }
   ],
   "source": [
    "coupang_soup = BeautifulSoup(res.text, 'html.parser')\n",
    "buy_div = coupang_soup.find('span', class_='fashion-unavailable-msg')\n",
    "buy_div.text # 하위 자식태그의 텍스트까지 문자열로 반환 (유니코드 형식)"
   ]
  },
  {
   "cell_type": "code",
   "execution_count": 16,
   "metadata": {},
   "outputs": [],
   "source": [
    "def coupang_check(res):\n",
    "    soup = BeautifulSoup(res.text, 'html.parser')\n",
    "    stock_div = soup.find('span', class_='fashion-unavailable-msg')\n",
    "\n",
    "    if stock_div.text == \"품절\":\n",
    "        return False\n",
    "    return True"
   ]
  }
 ]
}