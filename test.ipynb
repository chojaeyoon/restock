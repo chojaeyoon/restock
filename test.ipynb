{
 "metadata": {
  "language_info": {
   "codemirror_mode": {
    "name": "ipython",
    "version": 3
   },
   "file_extension": ".py",
   "mimetype": "text/x-python",
   "name": "python",
   "nbconvert_exporter": "python",
   "pygments_lexer": "ipython3",
   "version": "3.7.10"
  },
  "orig_nbformat": 4,
  "kernelspec": {
   "name": "python3",
   "display_name": "Python 3.7.10 64-bit ('restock': conda)"
  },
  "interpreter": {
   "hash": "4547dcb0894a2ad38ae25fcdbbb97c20457320bf6fefbda1dea551137f2f64ea"
  }
 },
 "nbformat": 4,
 "nbformat_minor": 2,
 "cells": [
  {
   "cell_type": "code",
   "execution_count": 1,
   "source": [
    "import requests # \r\n",
    "from bs4 import BeautifulSoup\r\n",
    "from selenium import webdriver"
   ],
   "outputs": [],
   "metadata": {}
  },
  {
   "cell_type": "code",
   "execution_count": 31,
   "source": [
    "## 11번가\r\n",
    "\r\n",
    "elvst_sample_url = \"https://www.11st.co.kr/products/2453470489\"\r\n",
    "res = requests.get(elvst_sample_url)\r\n",
    "res"
   ],
   "outputs": [
    {
     "output_type": "execute_result",
     "data": {
      "text/plain": [
       "<Response [200]>"
      ]
     },
     "metadata": {},
     "execution_count": 31
    }
   ],
   "metadata": {}
  },
  {
   "cell_type": "code",
   "execution_count": 32,
   "source": [
    "elvst_soup = BeautifulSoup(res.text, 'html.parser')\r\n",
    "buy_button = elvst_soup.find('a', class_ = 'btn_buying') # a 태그 중 btn_buying이란 class 존재 여부 판별\r\n",
    "buy_button"
   ],
   "outputs": [
    {
     "output_type": "execute_result",
     "data": {
      "text/plain": [
       "<a class=\"btn_buying btn_dshop buying c_product_btn c_product_btn_lg3\" data-log-actionid-label=\"purchase\" href=\"javascript:;\">구매하기</a>"
      ]
     },
     "metadata": {},
     "execution_count": 32
    }
   ],
   "metadata": {}
  },
  {
   "cell_type": "code",
   "execution_count": 8,
   "source": [
    "def elvst_check(res):\r\n",
    "    soup = BeautifulSoup(res.text, 'html.parser')\r\n",
    "    stock_a = soup.find(\"a\", class_=\"btn_dshop buying position_top\")\r\n",
    "\r\n",
    "    if stock_a == None:\r\n",
    "        return False\r\n",
    "    return True"
   ],
   "outputs": [],
   "metadata": {}
  },
  {
   "cell_type": "code",
   "execution_count": 9,
   "source": [
    "## 쿠팡\r\n",
    "\r\n",
    "coupang_sample_url = \"https://www.coupang.com/vp/products/4624314798?itemId=5735614447&vendorItemId=4765824657&sourceType=CATEGORY&categoryId=449013&isAddedCart=\"\r\n",
    "headers = {\r\n",
    "    \"User-Agent\" : \"Mozilla/5.0 (Windows NT 10.0; Win64; x64) AppleWebKit/537.36 (KHTML, like Gecko) Chrome/86.0.4240.277 Whale/2.9.118.38 Safari/537.36\"\r\n",
    "}\r\n",
    "res = requests.get(coupang_sample_url, headers=headers)\r\n",
    "res"
   ],
   "outputs": [
    {
     "output_type": "execute_result",
     "data": {
      "text/plain": [
       "<Response [200]>"
      ]
     },
     "metadata": {},
     "execution_count": 9
    }
   ],
   "metadata": {}
  },
  {
   "cell_type": "code",
   "execution_count": 13,
   "source": [
    "coupang_soup = BeautifulSoup(res.text, 'html.parser')\r\n",
    "buy_div = coupang_soup.find('span', class_='fashion-unavailable-msg')\r\n",
    "buy_div.text # 하위 자식태그의 텍스트까지 문자열로 반환 (유니코드 형식)"
   ],
   "outputs": [
    {
     "output_type": "execute_result",
     "data": {
      "text/plain": [
       "'품절'"
      ]
     },
     "metadata": {},
     "execution_count": 13
    }
   ],
   "metadata": {}
  },
  {
   "cell_type": "code",
   "execution_count": 16,
   "source": [
    "def coupang_check(res):\r\n",
    "    soup = BeautifulSoup(res.text, 'html.parser')\r\n",
    "    stock_div = soup.find('span', class_='fashion-unavailable-msg')\r\n",
    "\r\n",
    "    if stock_div.text == \"품절\":\r\n",
    "        return False\r\n",
    "    return True"
   ],
   "outputs": [],
   "metadata": {}
  },
  {
   "cell_type": "code",
   "execution_count": 17,
   "source": [
    "## cjmall\r\n",
    "\r\n",
    "cj_sample_url = \"https://display.cjonstyle.com/p/item/76046858?channelCode=30001001\"\r\n",
    "headers = {\r\n",
    "    \"User-Agent\" : \"Mozilla/5.0 (Windows NT 10.0; Win64; x64) AppleWebKit/537.36 (KHTML, like Gecko) Chrome/86.0.4240.277 Whale/2.9.118.38 Safari/537.36\"\r\n",
    "}\r\n",
    "cookies = {\r\n",
    "    \"Access-Control-Allow-Origin\" : \"https://display.cjonstyle.com\",\r\n",
    "    \"set-cookie\": \"QGUserId=6267770117748863; Domain=.c.appier.net; Max-Age=315360000; Path=/; Secure; HttpOnly; SameSite=None\",\r\n",
    "    \"access-control-allow-headers\": \"Package-Name, Content-Type\",\r\n",
    "    \"access-control-allow-methods\": \"POST, OPTIONS\",\r\n",
    "    \"cookie\" : \"_auid=3CTGpAV3CiC3IRwXDfU6YA; QGUserId=6267770117748863\"\r\n",
    "}\r\n",
    "res = requests.get(cj_sample_url, headers=headers, cookies=cookies)\r\n",
    "res"
   ],
   "outputs": [
    {
     "output_type": "execute_result",
     "data": {
      "text/plain": [
       "<Response [200]>"
      ]
     },
     "metadata": {},
     "execution_count": 17
    }
   ],
   "metadata": {
    "tags": []
   }
  },
  {
   "cell_type": "code",
   "execution_count": 18,
   "source": [
    "cj_soup = BeautifulSoup(res.text, 'html.parser')\r\n",
    "buy_div = cj_soup.find('a', class_='_buy')\r\n",
    "buy_div"
   ],
   "outputs": [],
   "metadata": {}
  },
  {
   "cell_type": "code",
   "execution_count": null,
   "source": [],
   "outputs": [],
   "metadata": {}
  }
 ]
}